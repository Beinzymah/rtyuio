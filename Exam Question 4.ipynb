{
 "cells": [
  {
   "cell_type": "code",
   "execution_count": 1,
   "id": "325d706c",
   "metadata": {},
   "outputs": [
    {
     "name": "stdout",
     "output_type": "stream",
     "text": [
      "enter any data :tr\n",
      "Showing products ['tr']\n",
      "Add another Y or exit N or search SY\n",
      "Add another ....\n",
      "enter any data :tr\n",
      "Showing products ['tr', 'tr']\n",
      "Add another Y or exit N or search SS\n",
      "Enter item to search :tr\n",
      "searching........\n",
      "your input\" tr was found 2 time(s)\n",
      "Showing products ['tr', 'tr']\n",
      "Add another Y or exit N or search SN\n",
      "displaying products\n",
      "['tr', 'tr']\n",
      "exiting....\n",
      "exiting.....\n"
     ]
    }
   ],
   "source": [
    "\n",
    "data=[]\n",
    "def enter_data():\n",
    "    x=input(\"enter any data :\")\n",
    "#     if x.isalpha:\n",
    "    return x\n",
    "\n",
    "def add_data(val,lst):\n",
    "    lst.append(val)\n",
    "    return lst\n",
    "\n",
    "def display(lst):\n",
    "    print(\"Showing products\",lst)\n",
    "    addAnotherData()\n",
    "    \n",
    "        #searching throught products\n",
    "def search():\n",
    "    search_data=input('Enter item to search :')\n",
    "    print('searching........')\n",
    "    mode=data.count(search_data)\n",
    "    if search_data in data:\n",
    "        print('your input\"',search_data,\"was found\",mode,'time(s)')\n",
    "    else:\n",
    "        print('sorry your input','search_data','was not found')\n",
    "    display(r)\n",
    "                    \n",
    "def addAnotherData():\n",
    "    x=input('Add another Y or exit N or search S')\n",
    "    if x==\"Y\":\n",
    "        print(\"Add another ....\")\n",
    "        x=enter_data()\n",
    "        r=add_data(x,data)\n",
    "        display(r)\n",
    "    if x==\"S\":\n",
    "        search()\n",
    "    elif x==\"N\":\n",
    "        print(\"displaying products\")\n",
    "        print(data)\n",
    "        print(\"exiting....\")\n",
    "    else:\n",
    "        print(\"exiting.....\")\n",
    "        \n",
    "x=enter_data()\n",
    "r=add_data(x,data)\n",
    "display(r)                                    "
   ]
  },
  {
   "cell_type": "code",
   "execution_count": null,
   "id": "0736fe47",
   "metadata": {},
   "outputs": [],
   "source": [
    " "
   ]
  },
  {
   "cell_type": "code",
   "execution_count": null,
   "id": "8fbf9f41",
   "metadata": {},
   "outputs": [],
   "source": []
  },
  {
   "cell_type": "code",
   "execution_count": null,
   "id": "8ac979d7",
   "metadata": {},
   "outputs": [],
   "source": []
  }
 ],
 "metadata": {
  "kernelspec": {
   "display_name": "Python 3 (ipykernel)",
   "language": "python",
   "name": "python3"
  },
  "language_info": {
   "codemirror_mode": {
    "name": "ipython",
    "version": 3
   },
   "file_extension": ".py",
   "mimetype": "text/x-python",
   "name": "python",
   "nbconvert_exporter": "python",
   "pygments_lexer": "ipython3",
   "version": "3.11.1"
  }
 },
 "nbformat": 4,
 "nbformat_minor": 5
}
